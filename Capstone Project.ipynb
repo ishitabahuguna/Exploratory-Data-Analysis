{
 "cells": [
  {
   "cell_type": "markdown",
   "id": "03b62c4b",
   "metadata": {},
   "source": [
    "# Capstone Project:Exploratory Data Analysis\n",
    "\n",
    "## Data Analysis On Terrorism "
   ]
  },
  {
   "cell_type": "code",
   "execution_count": 1,
   "id": "e17bcbb7",
   "metadata": {},
   "outputs": [],
   "source": [
    "#importing all libraries\n",
    "import numpy as np\n",
    "import pandas as pd\n",
    "\n",
    "import matplotlib.pyplot as plt\n",
    "%matplotlib inline\n",
    "\n",
    "import seaborn as sns"
   ]
  },
  {
   "cell_type": "code",
   "execution_count": 2,
   "id": "a19192d3",
   "metadata": {},
   "outputs": [
    {
     "data": {
      "text/html": [
       "<svg  width=\"550\" height=\"55\"><rect x=\"0\" y=\"0\" width=\"55\" height=\"55\" style=\"fill:#023eff;stroke-width:2;stroke:rgb(255,255,255)\"/><rect x=\"55\" y=\"0\" width=\"55\" height=\"55\" style=\"fill:#ff7c00;stroke-width:2;stroke:rgb(255,255,255)\"/><rect x=\"110\" y=\"0\" width=\"55\" height=\"55\" style=\"fill:#1ac938;stroke-width:2;stroke:rgb(255,255,255)\"/><rect x=\"165\" y=\"0\" width=\"55\" height=\"55\" style=\"fill:#e8000b;stroke-width:2;stroke:rgb(255,255,255)\"/><rect x=\"220\" y=\"0\" width=\"55\" height=\"55\" style=\"fill:#8b2be2;stroke-width:2;stroke:rgb(255,255,255)\"/><rect x=\"275\" y=\"0\" width=\"55\" height=\"55\" style=\"fill:#9f4800;stroke-width:2;stroke:rgb(255,255,255)\"/><rect x=\"330\" y=\"0\" width=\"55\" height=\"55\" style=\"fill:#f14cc1;stroke-width:2;stroke:rgb(255,255,255)\"/><rect x=\"385\" y=\"0\" width=\"55\" height=\"55\" style=\"fill:#a3a3a3;stroke-width:2;stroke:rgb(255,255,255)\"/><rect x=\"440\" y=\"0\" width=\"55\" height=\"55\" style=\"fill:#ffc400;stroke-width:2;stroke:rgb(255,255,255)\"/><rect x=\"495\" y=\"0\" width=\"55\" height=\"55\" style=\"fill:#00d7ff;stroke-width:2;stroke:rgb(255,255,255)\"/></svg>"
      ],
      "text/plain": [
       "[(0.00784313725490196, 0.24313725490196078, 1.0),\n",
       " (1.0, 0.48627450980392156, 0.0),\n",
       " (0.10196078431372549, 0.788235294117647, 0.2196078431372549),\n",
       " (0.9098039215686274, 0.0, 0.043137254901960784),\n",
       " (0.5450980392156862, 0.16862745098039217, 0.8862745098039215),\n",
       " (0.6235294117647059, 0.2823529411764706, 0.0),\n",
       " (0.9450980392156862, 0.2980392156862745, 0.7568627450980392),\n",
       " (0.6392156862745098, 0.6392156862745098, 0.6392156862745098),\n",
       " (1.0, 0.7686274509803922, 0.0),\n",
       " (0.0, 0.8431372549019608, 1.0)]"
      ]
     },
     "execution_count": 2,
     "metadata": {},
     "output_type": "execute_result"
    }
   ],
   "source": [
    "sns.color_palette('bright')"
   ]
  },
  {
   "cell_type": "markdown",
   "id": "8e6957c3",
   "metadata": {},
   "source": [
    "### import data"
   ]
  },
  {
   "cell_type": "code",
   "execution_count": 6,
   "id": "138eece3",
   "metadata": {},
   "outputs": [
    {
     "name": "stderr",
     "output_type": "stream",
     "text": [
      "C:\\ProgramData\\Anaconda3\\lib\\site-packages\\IPython\\core\\interactiveshell.py:3444: DtypeWarning: Columns (4,6,31,33,61,62,63,76,79,90,92,94,96,114,115,121) have mixed types.Specify dtype option on import or set low_memory=False.\n",
      "  exec(code_obj, self.user_global_ns, self.user_ns)\n"
     ]
    }
   ],
   "source": [
    "data=pd.read_csv(r'globalterrorismdb_0718dist.csv',encoding = \"ISO-8859-1\")"
   ]
  },
  {
   "cell_type": "code",
   "execution_count": 7,
   "id": "9f07a44f",
   "metadata": {},
   "outputs": [
    {
     "data": {
      "text/html": [
       "<div>\n",
       "<style scoped>\n",
       "    .dataframe tbody tr th:only-of-type {\n",
       "        vertical-align: middle;\n",
       "    }\n",
       "\n",
       "    .dataframe tbody tr th {\n",
       "        vertical-align: top;\n",
       "    }\n",
       "\n",
       "    .dataframe thead th {\n",
       "        text-align: right;\n",
       "    }\n",
       "</style>\n",
       "<table border=\"1\" class=\"dataframe\">\n",
       "  <thead>\n",
       "    <tr style=\"text-align: right;\">\n",
       "      <th></th>\n",
       "      <th>eventid</th>\n",
       "      <th>iyear</th>\n",
       "      <th>imonth</th>\n",
       "      <th>iday</th>\n",
       "      <th>approxdate</th>\n",
       "      <th>extended</th>\n",
       "      <th>resolution</th>\n",
       "      <th>country</th>\n",
       "      <th>country_txt</th>\n",
       "      <th>region</th>\n",
       "      <th>...</th>\n",
       "      <th>addnotes</th>\n",
       "      <th>scite1</th>\n",
       "      <th>scite2</th>\n",
       "      <th>scite3</th>\n",
       "      <th>dbsource</th>\n",
       "      <th>INT_LOG</th>\n",
       "      <th>INT_IDEO</th>\n",
       "      <th>INT_MISC</th>\n",
       "      <th>INT_ANY</th>\n",
       "      <th>related</th>\n",
       "    </tr>\n",
       "  </thead>\n",
       "  <tbody>\n",
       "    <tr>\n",
       "      <th>0</th>\n",
       "      <td>197000000001</td>\n",
       "      <td>1970</td>\n",
       "      <td>7</td>\n",
       "      <td>2</td>\n",
       "      <td>NaN</td>\n",
       "      <td>0</td>\n",
       "      <td>NaN</td>\n",
       "      <td>58</td>\n",
       "      <td>Dominican Republic</td>\n",
       "      <td>2</td>\n",
       "      <td>...</td>\n",
       "      <td>NaN</td>\n",
       "      <td>NaN</td>\n",
       "      <td>NaN</td>\n",
       "      <td>NaN</td>\n",
       "      <td>PGIS</td>\n",
       "      <td>0</td>\n",
       "      <td>0</td>\n",
       "      <td>0</td>\n",
       "      <td>0</td>\n",
       "      <td>NaN</td>\n",
       "    </tr>\n",
       "    <tr>\n",
       "      <th>1</th>\n",
       "      <td>197000000002</td>\n",
       "      <td>1970</td>\n",
       "      <td>0</td>\n",
       "      <td>0</td>\n",
       "      <td>NaN</td>\n",
       "      <td>0</td>\n",
       "      <td>NaN</td>\n",
       "      <td>130</td>\n",
       "      <td>Mexico</td>\n",
       "      <td>1</td>\n",
       "      <td>...</td>\n",
       "      <td>NaN</td>\n",
       "      <td>NaN</td>\n",
       "      <td>NaN</td>\n",
       "      <td>NaN</td>\n",
       "      <td>PGIS</td>\n",
       "      <td>0</td>\n",
       "      <td>1</td>\n",
       "      <td>1</td>\n",
       "      <td>1</td>\n",
       "      <td>NaN</td>\n",
       "    </tr>\n",
       "    <tr>\n",
       "      <th>2</th>\n",
       "      <td>197001000001</td>\n",
       "      <td>1970</td>\n",
       "      <td>1</td>\n",
       "      <td>0</td>\n",
       "      <td>NaN</td>\n",
       "      <td>0</td>\n",
       "      <td>NaN</td>\n",
       "      <td>160</td>\n",
       "      <td>Philippines</td>\n",
       "      <td>5</td>\n",
       "      <td>...</td>\n",
       "      <td>NaN</td>\n",
       "      <td>NaN</td>\n",
       "      <td>NaN</td>\n",
       "      <td>NaN</td>\n",
       "      <td>PGIS</td>\n",
       "      <td>-9</td>\n",
       "      <td>-9</td>\n",
       "      <td>1</td>\n",
       "      <td>1</td>\n",
       "      <td>NaN</td>\n",
       "    </tr>\n",
       "    <tr>\n",
       "      <th>3</th>\n",
       "      <td>197001000002</td>\n",
       "      <td>1970</td>\n",
       "      <td>1</td>\n",
       "      <td>0</td>\n",
       "      <td>NaN</td>\n",
       "      <td>0</td>\n",
       "      <td>NaN</td>\n",
       "      <td>78</td>\n",
       "      <td>Greece</td>\n",
       "      <td>8</td>\n",
       "      <td>...</td>\n",
       "      <td>NaN</td>\n",
       "      <td>NaN</td>\n",
       "      <td>NaN</td>\n",
       "      <td>NaN</td>\n",
       "      <td>PGIS</td>\n",
       "      <td>-9</td>\n",
       "      <td>-9</td>\n",
       "      <td>1</td>\n",
       "      <td>1</td>\n",
       "      <td>NaN</td>\n",
       "    </tr>\n",
       "    <tr>\n",
       "      <th>4</th>\n",
       "      <td>197001000003</td>\n",
       "      <td>1970</td>\n",
       "      <td>1</td>\n",
       "      <td>0</td>\n",
       "      <td>NaN</td>\n",
       "      <td>0</td>\n",
       "      <td>NaN</td>\n",
       "      <td>101</td>\n",
       "      <td>Japan</td>\n",
       "      <td>4</td>\n",
       "      <td>...</td>\n",
       "      <td>NaN</td>\n",
       "      <td>NaN</td>\n",
       "      <td>NaN</td>\n",
       "      <td>NaN</td>\n",
       "      <td>PGIS</td>\n",
       "      <td>-9</td>\n",
       "      <td>-9</td>\n",
       "      <td>1</td>\n",
       "      <td>1</td>\n",
       "      <td>NaN</td>\n",
       "    </tr>\n",
       "  </tbody>\n",
       "</table>\n",
       "<p>5 rows × 135 columns</p>\n",
       "</div>"
      ],
      "text/plain": [
       "        eventid  iyear  imonth  iday approxdate  extended resolution  country  \\\n",
       "0  197000000001   1970       7     2        NaN         0        NaN       58   \n",
       "1  197000000002   1970       0     0        NaN         0        NaN      130   \n",
       "2  197001000001   1970       1     0        NaN         0        NaN      160   \n",
       "3  197001000002   1970       1     0        NaN         0        NaN       78   \n",
       "4  197001000003   1970       1     0        NaN         0        NaN      101   \n",
       "\n",
       "          country_txt  region  ... addnotes scite1 scite2  scite3  dbsource  \\\n",
       "0  Dominican Republic       2  ...      NaN    NaN    NaN     NaN      PGIS   \n",
       "1              Mexico       1  ...      NaN    NaN    NaN     NaN      PGIS   \n",
       "2         Philippines       5  ...      NaN    NaN    NaN     NaN      PGIS   \n",
       "3              Greece       8  ...      NaN    NaN    NaN     NaN      PGIS   \n",
       "4               Japan       4  ...      NaN    NaN    NaN     NaN      PGIS   \n",
       "\n",
       "   INT_LOG  INT_IDEO INT_MISC INT_ANY  related  \n",
       "0        0         0        0       0      NaN  \n",
       "1        0         1        1       1      NaN  \n",
       "2       -9        -9        1       1      NaN  \n",
       "3       -9        -9        1       1      NaN  \n",
       "4       -9        -9        1       1      NaN  \n",
       "\n",
       "[5 rows x 135 columns]"
      ]
     },
     "execution_count": 7,
     "metadata": {},
     "output_type": "execute_result"
    }
   ],
   "source": [
    "data.head()"
   ]
  },
  {
   "cell_type": "code",
   "execution_count": 8,
   "id": "07e766cf",
   "metadata": {},
   "outputs": [
    {
     "data": {
      "text/plain": [
       "(181691, 135)"
      ]
     },
     "execution_count": 8,
     "metadata": {},
     "output_type": "execute_result"
    }
   ],
   "source": [
    "data.shape                                 #number of rows and columns in data"
   ]
  },
  {
   "cell_type": "code",
   "execution_count": 9,
   "id": "2a51b328",
   "metadata": {},
   "outputs": [
    {
     "data": {
      "text/html": [
       "<div>\n",
       "<style scoped>\n",
       "    .dataframe tbody tr th:only-of-type {\n",
       "        vertical-align: middle;\n",
       "    }\n",
       "\n",
       "    .dataframe tbody tr th {\n",
       "        vertical-align: top;\n",
       "    }\n",
       "\n",
       "    .dataframe thead th {\n",
       "        text-align: right;\n",
       "    }\n",
       "</style>\n",
       "<table border=\"1\" class=\"dataframe\">\n",
       "  <thead>\n",
       "    <tr style=\"text-align: right;\">\n",
       "      <th></th>\n",
       "      <th>eventid</th>\n",
       "      <th>iyear</th>\n",
       "      <th>imonth</th>\n",
       "      <th>iday</th>\n",
       "      <th>approxdate</th>\n",
       "      <th>extended</th>\n",
       "      <th>resolution</th>\n",
       "      <th>country</th>\n",
       "      <th>country_txt</th>\n",
       "      <th>region</th>\n",
       "      <th>...</th>\n",
       "      <th>addnotes</th>\n",
       "      <th>scite1</th>\n",
       "      <th>scite2</th>\n",
       "      <th>scite3</th>\n",
       "      <th>dbsource</th>\n",
       "      <th>INT_LOG</th>\n",
       "      <th>INT_IDEO</th>\n",
       "      <th>INT_MISC</th>\n",
       "      <th>INT_ANY</th>\n",
       "      <th>related</th>\n",
       "    </tr>\n",
       "  </thead>\n",
       "  <tbody>\n",
       "    <tr>\n",
       "      <th>0</th>\n",
       "      <td>197000000001</td>\n",
       "      <td>1970</td>\n",
       "      <td>7</td>\n",
       "      <td>2</td>\n",
       "      <td>NaN</td>\n",
       "      <td>0</td>\n",
       "      <td>NaN</td>\n",
       "      <td>58</td>\n",
       "      <td>Dominican Republic</td>\n",
       "      <td>2</td>\n",
       "      <td>...</td>\n",
       "      <td>NaN</td>\n",
       "      <td>NaN</td>\n",
       "      <td>NaN</td>\n",
       "      <td>NaN</td>\n",
       "      <td>PGIS</td>\n",
       "      <td>0</td>\n",
       "      <td>0</td>\n",
       "      <td>0</td>\n",
       "      <td>0</td>\n",
       "      <td>NaN</td>\n",
       "    </tr>\n",
       "    <tr>\n",
       "      <th>1</th>\n",
       "      <td>197000000002</td>\n",
       "      <td>1970</td>\n",
       "      <td>0</td>\n",
       "      <td>0</td>\n",
       "      <td>NaN</td>\n",
       "      <td>0</td>\n",
       "      <td>NaN</td>\n",
       "      <td>130</td>\n",
       "      <td>Mexico</td>\n",
       "      <td>1</td>\n",
       "      <td>...</td>\n",
       "      <td>NaN</td>\n",
       "      <td>NaN</td>\n",
       "      <td>NaN</td>\n",
       "      <td>NaN</td>\n",
       "      <td>PGIS</td>\n",
       "      <td>0</td>\n",
       "      <td>1</td>\n",
       "      <td>1</td>\n",
       "      <td>1</td>\n",
       "      <td>NaN</td>\n",
       "    </tr>\n",
       "    <tr>\n",
       "      <th>2</th>\n",
       "      <td>197001000001</td>\n",
       "      <td>1970</td>\n",
       "      <td>1</td>\n",
       "      <td>0</td>\n",
       "      <td>NaN</td>\n",
       "      <td>0</td>\n",
       "      <td>NaN</td>\n",
       "      <td>160</td>\n",
       "      <td>Philippines</td>\n",
       "      <td>5</td>\n",
       "      <td>...</td>\n",
       "      <td>NaN</td>\n",
       "      <td>NaN</td>\n",
       "      <td>NaN</td>\n",
       "      <td>NaN</td>\n",
       "      <td>PGIS</td>\n",
       "      <td>-9</td>\n",
       "      <td>-9</td>\n",
       "      <td>1</td>\n",
       "      <td>1</td>\n",
       "      <td>NaN</td>\n",
       "    </tr>\n",
       "    <tr>\n",
       "      <th>3</th>\n",
       "      <td>197001000002</td>\n",
       "      <td>1970</td>\n",
       "      <td>1</td>\n",
       "      <td>0</td>\n",
       "      <td>NaN</td>\n",
       "      <td>0</td>\n",
       "      <td>NaN</td>\n",
       "      <td>78</td>\n",
       "      <td>Greece</td>\n",
       "      <td>8</td>\n",
       "      <td>...</td>\n",
       "      <td>NaN</td>\n",
       "      <td>NaN</td>\n",
       "      <td>NaN</td>\n",
       "      <td>NaN</td>\n",
       "      <td>PGIS</td>\n",
       "      <td>-9</td>\n",
       "      <td>-9</td>\n",
       "      <td>1</td>\n",
       "      <td>1</td>\n",
       "      <td>NaN</td>\n",
       "    </tr>\n",
       "    <tr>\n",
       "      <th>4</th>\n",
       "      <td>197001000003</td>\n",
       "      <td>1970</td>\n",
       "      <td>1</td>\n",
       "      <td>0</td>\n",
       "      <td>NaN</td>\n",
       "      <td>0</td>\n",
       "      <td>NaN</td>\n",
       "      <td>101</td>\n",
       "      <td>Japan</td>\n",
       "      <td>4</td>\n",
       "      <td>...</td>\n",
       "      <td>NaN</td>\n",
       "      <td>NaN</td>\n",
       "      <td>NaN</td>\n",
       "      <td>NaN</td>\n",
       "      <td>PGIS</td>\n",
       "      <td>-9</td>\n",
       "      <td>-9</td>\n",
       "      <td>1</td>\n",
       "      <td>1</td>\n",
       "      <td>NaN</td>\n",
       "    </tr>\n",
       "  </tbody>\n",
       "</table>\n",
       "<p>5 rows × 135 columns</p>\n",
       "</div>"
      ],
      "text/plain": [
       "        eventid  iyear  imonth  iday approxdate  extended resolution  country  \\\n",
       "0  197000000001   1970       7     2        NaN         0        NaN       58   \n",
       "1  197000000002   1970       0     0        NaN         0        NaN      130   \n",
       "2  197001000001   1970       1     0        NaN         0        NaN      160   \n",
       "3  197001000002   1970       1     0        NaN         0        NaN       78   \n",
       "4  197001000003   1970       1     0        NaN         0        NaN      101   \n",
       "\n",
       "          country_txt  region  ... addnotes scite1 scite2  scite3  dbsource  \\\n",
       "0  Dominican Republic       2  ...      NaN    NaN    NaN     NaN      PGIS   \n",
       "1              Mexico       1  ...      NaN    NaN    NaN     NaN      PGIS   \n",
       "2         Philippines       5  ...      NaN    NaN    NaN     NaN      PGIS   \n",
       "3              Greece       8  ...      NaN    NaN    NaN     NaN      PGIS   \n",
       "4               Japan       4  ...      NaN    NaN    NaN     NaN      PGIS   \n",
       "\n",
       "   INT_LOG  INT_IDEO INT_MISC INT_ANY  related  \n",
       "0        0         0        0       0      NaN  \n",
       "1        0         1        1       1      NaN  \n",
       "2       -9        -9        1       1      NaN  \n",
       "3       -9        -9        1       1      NaN  \n",
       "4       -9        -9        1       1      NaN  \n",
       "\n",
       "[5 rows x 135 columns]"
      ]
     },
     "execution_count": 9,
     "metadata": {},
     "output_type": "execute_result"
    }
   ],
   "source": [
    "data.head()"
   ]
  },
  {
   "cell_type": "code",
   "execution_count": 10,
   "id": "de73abb8",
   "metadata": {},
   "outputs": [
    {
     "data": {
      "text/html": [
       "<div>\n",
       "<style scoped>\n",
       "    .dataframe tbody tr th:only-of-type {\n",
       "        vertical-align: middle;\n",
       "    }\n",
       "\n",
       "    .dataframe tbody tr th {\n",
       "        vertical-align: top;\n",
       "    }\n",
       "\n",
       "    .dataframe thead th {\n",
       "        text-align: right;\n",
       "    }\n",
       "</style>\n",
       "<table border=\"1\" class=\"dataframe\">\n",
       "  <thead>\n",
       "    <tr style=\"text-align: right;\">\n",
       "      <th></th>\n",
       "      <th>count</th>\n",
       "      <th>mean</th>\n",
       "      <th>std</th>\n",
       "      <th>min</th>\n",
       "      <th>25%</th>\n",
       "      <th>50%</th>\n",
       "      <th>75%</th>\n",
       "      <th>max</th>\n",
       "    </tr>\n",
       "  </thead>\n",
       "  <tbody>\n",
       "    <tr>\n",
       "      <th>eventid</th>\n",
       "      <td>181691.0</td>\n",
       "      <td>2.002705e+11</td>\n",
       "      <td>1.325957e+09</td>\n",
       "      <td>1.970000e+11</td>\n",
       "      <td>1.991021e+11</td>\n",
       "      <td>2.009022e+11</td>\n",
       "      <td>2.014081e+11</td>\n",
       "      <td>2.017123e+11</td>\n",
       "    </tr>\n",
       "    <tr>\n",
       "      <th>iyear</th>\n",
       "      <td>181691.0</td>\n",
       "      <td>2.002639e+03</td>\n",
       "      <td>1.325943e+01</td>\n",
       "      <td>1.970000e+03</td>\n",
       "      <td>1.991000e+03</td>\n",
       "      <td>2.009000e+03</td>\n",
       "      <td>2.014000e+03</td>\n",
       "      <td>2.017000e+03</td>\n",
       "    </tr>\n",
       "    <tr>\n",
       "      <th>imonth</th>\n",
       "      <td>181691.0</td>\n",
       "      <td>6.467277e+00</td>\n",
       "      <td>3.388303e+00</td>\n",
       "      <td>0.000000e+00</td>\n",
       "      <td>4.000000e+00</td>\n",
       "      <td>6.000000e+00</td>\n",
       "      <td>9.000000e+00</td>\n",
       "      <td>1.200000e+01</td>\n",
       "    </tr>\n",
       "    <tr>\n",
       "      <th>iday</th>\n",
       "      <td>181691.0</td>\n",
       "      <td>1.550564e+01</td>\n",
       "      <td>8.814045e+00</td>\n",
       "      <td>0.000000e+00</td>\n",
       "      <td>8.000000e+00</td>\n",
       "      <td>1.500000e+01</td>\n",
       "      <td>2.300000e+01</td>\n",
       "      <td>3.100000e+01</td>\n",
       "    </tr>\n",
       "    <tr>\n",
       "      <th>extended</th>\n",
       "      <td>181691.0</td>\n",
       "      <td>4.534622e-02</td>\n",
       "      <td>2.080629e-01</td>\n",
       "      <td>0.000000e+00</td>\n",
       "      <td>0.000000e+00</td>\n",
       "      <td>0.000000e+00</td>\n",
       "      <td>0.000000e+00</td>\n",
       "      <td>1.000000e+00</td>\n",
       "    </tr>\n",
       "    <tr>\n",
       "      <th>...</th>\n",
       "      <td>...</td>\n",
       "      <td>...</td>\n",
       "      <td>...</td>\n",
       "      <td>...</td>\n",
       "      <td>...</td>\n",
       "      <td>...</td>\n",
       "      <td>...</td>\n",
       "      <td>...</td>\n",
       "    </tr>\n",
       "    <tr>\n",
       "      <th>nreleased</th>\n",
       "      <td>10400.0</td>\n",
       "      <td>-2.901827e+01</td>\n",
       "      <td>6.572012e+01</td>\n",
       "      <td>-9.900000e+01</td>\n",
       "      <td>-9.900000e+01</td>\n",
       "      <td>0.000000e+00</td>\n",
       "      <td>1.000000e+00</td>\n",
       "      <td>2.769000e+03</td>\n",
       "    </tr>\n",
       "    <tr>\n",
       "      <th>INT_LOG</th>\n",
       "      <td>181691.0</td>\n",
       "      <td>-4.543731e+00</td>\n",
       "      <td>4.543547e+00</td>\n",
       "      <td>-9.000000e+00</td>\n",
       "      <td>-9.000000e+00</td>\n",
       "      <td>-9.000000e+00</td>\n",
       "      <td>0.000000e+00</td>\n",
       "      <td>1.000000e+00</td>\n",
       "    </tr>\n",
       "    <tr>\n",
       "      <th>INT_IDEO</th>\n",
       "      <td>181691.0</td>\n",
       "      <td>-4.464398e+00</td>\n",
       "      <td>4.637152e+00</td>\n",
       "      <td>-9.000000e+00</td>\n",
       "      <td>-9.000000e+00</td>\n",
       "      <td>-9.000000e+00</td>\n",
       "      <td>0.000000e+00</td>\n",
       "      <td>1.000000e+00</td>\n",
       "    </tr>\n",
       "    <tr>\n",
       "      <th>INT_MISC</th>\n",
       "      <td>181691.0</td>\n",
       "      <td>9.000996e-02</td>\n",
       "      <td>5.684573e-01</td>\n",
       "      <td>-9.000000e+00</td>\n",
       "      <td>0.000000e+00</td>\n",
       "      <td>0.000000e+00</td>\n",
       "      <td>0.000000e+00</td>\n",
       "      <td>1.000000e+00</td>\n",
       "    </tr>\n",
       "    <tr>\n",
       "      <th>INT_ANY</th>\n",
       "      <td>181691.0</td>\n",
       "      <td>-3.945952e+00</td>\n",
       "      <td>4.691325e+00</td>\n",
       "      <td>-9.000000e+00</td>\n",
       "      <td>-9.000000e+00</td>\n",
       "      <td>0.000000e+00</td>\n",
       "      <td>0.000000e+00</td>\n",
       "      <td>1.000000e+00</td>\n",
       "    </tr>\n",
       "  </tbody>\n",
       "</table>\n",
       "<p>77 rows × 8 columns</p>\n",
       "</div>"
      ],
      "text/plain": [
       "              count          mean           std           min           25%  \\\n",
       "eventid    181691.0  2.002705e+11  1.325957e+09  1.970000e+11  1.991021e+11   \n",
       "iyear      181691.0  2.002639e+03  1.325943e+01  1.970000e+03  1.991000e+03   \n",
       "imonth     181691.0  6.467277e+00  3.388303e+00  0.000000e+00  4.000000e+00   \n",
       "iday       181691.0  1.550564e+01  8.814045e+00  0.000000e+00  8.000000e+00   \n",
       "extended   181691.0  4.534622e-02  2.080629e-01  0.000000e+00  0.000000e+00   \n",
       "...             ...           ...           ...           ...           ...   \n",
       "nreleased   10400.0 -2.901827e+01  6.572012e+01 -9.900000e+01 -9.900000e+01   \n",
       "INT_LOG    181691.0 -4.543731e+00  4.543547e+00 -9.000000e+00 -9.000000e+00   \n",
       "INT_IDEO   181691.0 -4.464398e+00  4.637152e+00 -9.000000e+00 -9.000000e+00   \n",
       "INT_MISC   181691.0  9.000996e-02  5.684573e-01 -9.000000e+00  0.000000e+00   \n",
       "INT_ANY    181691.0 -3.945952e+00  4.691325e+00 -9.000000e+00 -9.000000e+00   \n",
       "\n",
       "                    50%           75%           max  \n",
       "eventid    2.009022e+11  2.014081e+11  2.017123e+11  \n",
       "iyear      2.009000e+03  2.014000e+03  2.017000e+03  \n",
       "imonth     6.000000e+00  9.000000e+00  1.200000e+01  \n",
       "iday       1.500000e+01  2.300000e+01  3.100000e+01  \n",
       "extended   0.000000e+00  0.000000e+00  1.000000e+00  \n",
       "...                 ...           ...           ...  \n",
       "nreleased  0.000000e+00  1.000000e+00  2.769000e+03  \n",
       "INT_LOG   -9.000000e+00  0.000000e+00  1.000000e+00  \n",
       "INT_IDEO  -9.000000e+00  0.000000e+00  1.000000e+00  \n",
       "INT_MISC   0.000000e+00  0.000000e+00  1.000000e+00  \n",
       "INT_ANY    0.000000e+00  0.000000e+00  1.000000e+00  \n",
       "\n",
       "[77 rows x 8 columns]"
      ]
     },
     "execution_count": 10,
     "metadata": {},
     "output_type": "execute_result"
    }
   ],
   "source": [
    "data.describe().T"
   ]
  },
  {
   "cell_type": "code",
   "execution_count": 11,
   "id": "d1566f79",
   "metadata": {},
   "outputs": [
    {
     "data": {
      "text/plain": [
       "(181691, 135)"
      ]
     },
     "execution_count": 11,
     "metadata": {},
     "output_type": "execute_result"
    }
   ],
   "source": [
    "data.shape"
   ]
  },
  {
   "cell_type": "code",
   "execution_count": 21,
   "id": "b3c65ecf",
   "metadata": {},
   "outputs": [
    {
     "name": "stdout",
     "output_type": "stream",
     "text": [
      "<class 'pandas.core.frame.DataFrame'>\n",
      "RangeIndex: 181691 entries, 0 to 181690\n",
      "Columns: 135 entries, eventid to related\n",
      "dtypes: float64(55), int64(22), object(58)\n",
      "memory usage: 187.1+ MB\n"
     ]
    }
   ],
   "source": [
    "data.info()"
   ]
  },
  {
   "cell_type": "code",
   "execution_count": 12,
   "id": "6e8700b2",
   "metadata": {},
   "outputs": [
    {
     "data": {
      "text/html": [
       "<div>\n",
       "<style scoped>\n",
       "    .dataframe tbody tr th:only-of-type {\n",
       "        vertical-align: middle;\n",
       "    }\n",
       "\n",
       "    .dataframe tbody tr th {\n",
       "        vertical-align: top;\n",
       "    }\n",
       "\n",
       "    .dataframe thead th {\n",
       "        text-align: right;\n",
       "    }\n",
       "</style>\n",
       "<table border=\"1\" class=\"dataframe\">\n",
       "  <thead>\n",
       "    <tr style=\"text-align: right;\">\n",
       "      <th></th>\n",
       "      <th>eventid</th>\n",
       "      <th>iyear</th>\n",
       "      <th>imonth</th>\n",
       "      <th>iday</th>\n",
       "      <th>approxdate</th>\n",
       "      <th>extended</th>\n",
       "      <th>resolution</th>\n",
       "      <th>country</th>\n",
       "      <th>country_txt</th>\n",
       "      <th>region</th>\n",
       "      <th>...</th>\n",
       "      <th>addnotes</th>\n",
       "      <th>scite1</th>\n",
       "      <th>scite2</th>\n",
       "      <th>scite3</th>\n",
       "      <th>dbsource</th>\n",
       "      <th>INT_LOG</th>\n",
       "      <th>INT_IDEO</th>\n",
       "      <th>INT_MISC</th>\n",
       "      <th>INT_ANY</th>\n",
       "      <th>related</th>\n",
       "    </tr>\n",
       "  </thead>\n",
       "  <tbody>\n",
       "    <tr>\n",
       "      <th>0</th>\n",
       "      <td>197000000001</td>\n",
       "      <td>1970</td>\n",
       "      <td>7</td>\n",
       "      <td>2</td>\n",
       "      <td>NaN</td>\n",
       "      <td>0</td>\n",
       "      <td>NaN</td>\n",
       "      <td>58</td>\n",
       "      <td>Dominican Republic</td>\n",
       "      <td>2</td>\n",
       "      <td>...</td>\n",
       "      <td>NaN</td>\n",
       "      <td>NaN</td>\n",
       "      <td>NaN</td>\n",
       "      <td>NaN</td>\n",
       "      <td>PGIS</td>\n",
       "      <td>0</td>\n",
       "      <td>0</td>\n",
       "      <td>0</td>\n",
       "      <td>0</td>\n",
       "      <td>NaN</td>\n",
       "    </tr>\n",
       "    <tr>\n",
       "      <th>1</th>\n",
       "      <td>197000000002</td>\n",
       "      <td>1970</td>\n",
       "      <td>0</td>\n",
       "      <td>0</td>\n",
       "      <td>NaN</td>\n",
       "      <td>0</td>\n",
       "      <td>NaN</td>\n",
       "      <td>130</td>\n",
       "      <td>Mexico</td>\n",
       "      <td>1</td>\n",
       "      <td>...</td>\n",
       "      <td>NaN</td>\n",
       "      <td>NaN</td>\n",
       "      <td>NaN</td>\n",
       "      <td>NaN</td>\n",
       "      <td>PGIS</td>\n",
       "      <td>0</td>\n",
       "      <td>1</td>\n",
       "      <td>1</td>\n",
       "      <td>1</td>\n",
       "      <td>NaN</td>\n",
       "    </tr>\n",
       "    <tr>\n",
       "      <th>2</th>\n",
       "      <td>197001000001</td>\n",
       "      <td>1970</td>\n",
       "      <td>1</td>\n",
       "      <td>0</td>\n",
       "      <td>NaN</td>\n",
       "      <td>0</td>\n",
       "      <td>NaN</td>\n",
       "      <td>160</td>\n",
       "      <td>Philippines</td>\n",
       "      <td>5</td>\n",
       "      <td>...</td>\n",
       "      <td>NaN</td>\n",
       "      <td>NaN</td>\n",
       "      <td>NaN</td>\n",
       "      <td>NaN</td>\n",
       "      <td>PGIS</td>\n",
       "      <td>-9</td>\n",
       "      <td>-9</td>\n",
       "      <td>1</td>\n",
       "      <td>1</td>\n",
       "      <td>NaN</td>\n",
       "    </tr>\n",
       "    <tr>\n",
       "      <th>3</th>\n",
       "      <td>197001000002</td>\n",
       "      <td>1970</td>\n",
       "      <td>1</td>\n",
       "      <td>0</td>\n",
       "      <td>NaN</td>\n",
       "      <td>0</td>\n",
       "      <td>NaN</td>\n",
       "      <td>78</td>\n",
       "      <td>Greece</td>\n",
       "      <td>8</td>\n",
       "      <td>...</td>\n",
       "      <td>NaN</td>\n",
       "      <td>NaN</td>\n",
       "      <td>NaN</td>\n",
       "      <td>NaN</td>\n",
       "      <td>PGIS</td>\n",
       "      <td>-9</td>\n",
       "      <td>-9</td>\n",
       "      <td>1</td>\n",
       "      <td>1</td>\n",
       "      <td>NaN</td>\n",
       "    </tr>\n",
       "    <tr>\n",
       "      <th>4</th>\n",
       "      <td>197001000003</td>\n",
       "      <td>1970</td>\n",
       "      <td>1</td>\n",
       "      <td>0</td>\n",
       "      <td>NaN</td>\n",
       "      <td>0</td>\n",
       "      <td>NaN</td>\n",
       "      <td>101</td>\n",
       "      <td>Japan</td>\n",
       "      <td>4</td>\n",
       "      <td>...</td>\n",
       "      <td>NaN</td>\n",
       "      <td>NaN</td>\n",
       "      <td>NaN</td>\n",
       "      <td>NaN</td>\n",
       "      <td>PGIS</td>\n",
       "      <td>-9</td>\n",
       "      <td>-9</td>\n",
       "      <td>1</td>\n",
       "      <td>1</td>\n",
       "      <td>NaN</td>\n",
       "    </tr>\n",
       "  </tbody>\n",
       "</table>\n",
       "<p>5 rows × 135 columns</p>\n",
       "</div>"
      ],
      "text/plain": [
       "        eventid  iyear  imonth  iday approxdate  extended resolution  country  \\\n",
       "0  197000000001   1970       7     2        NaN         0        NaN       58   \n",
       "1  197000000002   1970       0     0        NaN         0        NaN      130   \n",
       "2  197001000001   1970       1     0        NaN         0        NaN      160   \n",
       "3  197001000002   1970       1     0        NaN         0        NaN       78   \n",
       "4  197001000003   1970       1     0        NaN         0        NaN      101   \n",
       "\n",
       "          country_txt  region  ... addnotes scite1 scite2  scite3  dbsource  \\\n",
       "0  Dominican Republic       2  ...      NaN    NaN    NaN     NaN      PGIS   \n",
       "1              Mexico       1  ...      NaN    NaN    NaN     NaN      PGIS   \n",
       "2         Philippines       5  ...      NaN    NaN    NaN     NaN      PGIS   \n",
       "3              Greece       8  ...      NaN    NaN    NaN     NaN      PGIS   \n",
       "4               Japan       4  ...      NaN    NaN    NaN     NaN      PGIS   \n",
       "\n",
       "   INT_LOG  INT_IDEO INT_MISC INT_ANY  related  \n",
       "0        0         0        0       0      NaN  \n",
       "1        0         1        1       1      NaN  \n",
       "2       -9        -9        1       1      NaN  \n",
       "3       -9        -9        1       1      NaN  \n",
       "4       -9        -9        1       1      NaN  \n",
       "\n",
       "[5 rows x 135 columns]"
      ]
     },
     "execution_count": 12,
     "metadata": {},
     "output_type": "execute_result"
    }
   ],
   "source": [
    "data.head()"
   ]
  },
  {
   "cell_type": "markdown",
   "id": "ddd9958d",
   "metadata": {},
   "source": [
    "## Descriptive Analysis"
   ]
  },
  {
   "cell_type": "code",
   "execution_count": 13,
   "id": "8f96a273",
   "metadata": {},
   "outputs": [
    {
     "data": {
      "text/html": [
       "<div>\n",
       "<style scoped>\n",
       "    .dataframe tbody tr th:only-of-type {\n",
       "        vertical-align: middle;\n",
       "    }\n",
       "\n",
       "    .dataframe tbody tr th {\n",
       "        vertical-align: top;\n",
       "    }\n",
       "\n",
       "    .dataframe thead th {\n",
       "        text-align: right;\n",
       "    }\n",
       "</style>\n",
       "<table border=\"1\" class=\"dataframe\">\n",
       "  <thead>\n",
       "    <tr style=\"text-align: right;\">\n",
       "      <th></th>\n",
       "      <th>count</th>\n",
       "      <th>mean</th>\n",
       "      <th>std</th>\n",
       "      <th>min</th>\n",
       "      <th>25%</th>\n",
       "      <th>50%</th>\n",
       "      <th>75%</th>\n",
       "      <th>max</th>\n",
       "    </tr>\n",
       "  </thead>\n",
       "  <tbody>\n",
       "    <tr>\n",
       "      <th>eventid</th>\n",
       "      <td>181691.0</td>\n",
       "      <td>2.002705e+11</td>\n",
       "      <td>1.325957e+09</td>\n",
       "      <td>1.970000e+11</td>\n",
       "      <td>1.991021e+11</td>\n",
       "      <td>2.009022e+11</td>\n",
       "      <td>2.014081e+11</td>\n",
       "      <td>2.017123e+11</td>\n",
       "    </tr>\n",
       "    <tr>\n",
       "      <th>iyear</th>\n",
       "      <td>181691.0</td>\n",
       "      <td>2.002639e+03</td>\n",
       "      <td>1.325943e+01</td>\n",
       "      <td>1.970000e+03</td>\n",
       "      <td>1.991000e+03</td>\n",
       "      <td>2.009000e+03</td>\n",
       "      <td>2.014000e+03</td>\n",
       "      <td>2.017000e+03</td>\n",
       "    </tr>\n",
       "    <tr>\n",
       "      <th>imonth</th>\n",
       "      <td>181691.0</td>\n",
       "      <td>6.467277e+00</td>\n",
       "      <td>3.388303e+00</td>\n",
       "      <td>0.000000e+00</td>\n",
       "      <td>4.000000e+00</td>\n",
       "      <td>6.000000e+00</td>\n",
       "      <td>9.000000e+00</td>\n",
       "      <td>1.200000e+01</td>\n",
       "    </tr>\n",
       "    <tr>\n",
       "      <th>iday</th>\n",
       "      <td>181691.0</td>\n",
       "      <td>1.550564e+01</td>\n",
       "      <td>8.814045e+00</td>\n",
       "      <td>0.000000e+00</td>\n",
       "      <td>8.000000e+00</td>\n",
       "      <td>1.500000e+01</td>\n",
       "      <td>2.300000e+01</td>\n",
       "      <td>3.100000e+01</td>\n",
       "    </tr>\n",
       "    <tr>\n",
       "      <th>extended</th>\n",
       "      <td>181691.0</td>\n",
       "      <td>4.534622e-02</td>\n",
       "      <td>2.080629e-01</td>\n",
       "      <td>0.000000e+00</td>\n",
       "      <td>0.000000e+00</td>\n",
       "      <td>0.000000e+00</td>\n",
       "      <td>0.000000e+00</td>\n",
       "      <td>1.000000e+00</td>\n",
       "    </tr>\n",
       "    <tr>\n",
       "      <th>...</th>\n",
       "      <td>...</td>\n",
       "      <td>...</td>\n",
       "      <td>...</td>\n",
       "      <td>...</td>\n",
       "      <td>...</td>\n",
       "      <td>...</td>\n",
       "      <td>...</td>\n",
       "      <td>...</td>\n",
       "    </tr>\n",
       "    <tr>\n",
       "      <th>nreleased</th>\n",
       "      <td>10400.0</td>\n",
       "      <td>-2.901827e+01</td>\n",
       "      <td>6.572012e+01</td>\n",
       "      <td>-9.900000e+01</td>\n",
       "      <td>-9.900000e+01</td>\n",
       "      <td>0.000000e+00</td>\n",
       "      <td>1.000000e+00</td>\n",
       "      <td>2.769000e+03</td>\n",
       "    </tr>\n",
       "    <tr>\n",
       "      <th>INT_LOG</th>\n",
       "      <td>181691.0</td>\n",
       "      <td>-4.543731e+00</td>\n",
       "      <td>4.543547e+00</td>\n",
       "      <td>-9.000000e+00</td>\n",
       "      <td>-9.000000e+00</td>\n",
       "      <td>-9.000000e+00</td>\n",
       "      <td>0.000000e+00</td>\n",
       "      <td>1.000000e+00</td>\n",
       "    </tr>\n",
       "    <tr>\n",
       "      <th>INT_IDEO</th>\n",
       "      <td>181691.0</td>\n",
       "      <td>-4.464398e+00</td>\n",
       "      <td>4.637152e+00</td>\n",
       "      <td>-9.000000e+00</td>\n",
       "      <td>-9.000000e+00</td>\n",
       "      <td>-9.000000e+00</td>\n",
       "      <td>0.000000e+00</td>\n",
       "      <td>1.000000e+00</td>\n",
       "    </tr>\n",
       "    <tr>\n",
       "      <th>INT_MISC</th>\n",
       "      <td>181691.0</td>\n",
       "      <td>9.000996e-02</td>\n",
       "      <td>5.684573e-01</td>\n",
       "      <td>-9.000000e+00</td>\n",
       "      <td>0.000000e+00</td>\n",
       "      <td>0.000000e+00</td>\n",
       "      <td>0.000000e+00</td>\n",
       "      <td>1.000000e+00</td>\n",
       "    </tr>\n",
       "    <tr>\n",
       "      <th>INT_ANY</th>\n",
       "      <td>181691.0</td>\n",
       "      <td>-3.945952e+00</td>\n",
       "      <td>4.691325e+00</td>\n",
       "      <td>-9.000000e+00</td>\n",
       "      <td>-9.000000e+00</td>\n",
       "      <td>0.000000e+00</td>\n",
       "      <td>0.000000e+00</td>\n",
       "      <td>1.000000e+00</td>\n",
       "    </tr>\n",
       "  </tbody>\n",
       "</table>\n",
       "<p>77 rows × 8 columns</p>\n",
       "</div>"
      ],
      "text/plain": [
       "              count          mean           std           min           25%  \\\n",
       "eventid    181691.0  2.002705e+11  1.325957e+09  1.970000e+11  1.991021e+11   \n",
       "iyear      181691.0  2.002639e+03  1.325943e+01  1.970000e+03  1.991000e+03   \n",
       "imonth     181691.0  6.467277e+00  3.388303e+00  0.000000e+00  4.000000e+00   \n",
       "iday       181691.0  1.550564e+01  8.814045e+00  0.000000e+00  8.000000e+00   \n",
       "extended   181691.0  4.534622e-02  2.080629e-01  0.000000e+00  0.000000e+00   \n",
       "...             ...           ...           ...           ...           ...   \n",
       "nreleased   10400.0 -2.901827e+01  6.572012e+01 -9.900000e+01 -9.900000e+01   \n",
       "INT_LOG    181691.0 -4.543731e+00  4.543547e+00 -9.000000e+00 -9.000000e+00   \n",
       "INT_IDEO   181691.0 -4.464398e+00  4.637152e+00 -9.000000e+00 -9.000000e+00   \n",
       "INT_MISC   181691.0  9.000996e-02  5.684573e-01 -9.000000e+00  0.000000e+00   \n",
       "INT_ANY    181691.0 -3.945952e+00  4.691325e+00 -9.000000e+00 -9.000000e+00   \n",
       "\n",
       "                    50%           75%           max  \n",
       "eventid    2.009022e+11  2.014081e+11  2.017123e+11  \n",
       "iyear      2.009000e+03  2.014000e+03  2.017000e+03  \n",
       "imonth     6.000000e+00  9.000000e+00  1.200000e+01  \n",
       "iday       1.500000e+01  2.300000e+01  3.100000e+01  \n",
       "extended   0.000000e+00  0.000000e+00  1.000000e+00  \n",
       "...                 ...           ...           ...  \n",
       "nreleased  0.000000e+00  1.000000e+00  2.769000e+03  \n",
       "INT_LOG   -9.000000e+00  0.000000e+00  1.000000e+00  \n",
       "INT_IDEO  -9.000000e+00  0.000000e+00  1.000000e+00  \n",
       "INT_MISC   0.000000e+00  0.000000e+00  1.000000e+00  \n",
       "INT_ANY    0.000000e+00  0.000000e+00  1.000000e+00  \n",
       "\n",
       "[77 rows x 8 columns]"
      ]
     },
     "execution_count": 13,
     "metadata": {},
     "output_type": "execute_result"
    }
   ],
   "source": [
    "data.describe().T"
   ]
  },
  {
   "cell_type": "markdown",
   "id": "8135404f",
   "metadata": {},
   "source": [
    "# Exploring The Data"
   ]
  },
  {
   "cell_type": "code",
   "execution_count": 14,
   "id": "e98fe79e",
   "metadata": {},
   "outputs": [
    {
     "data": {
      "text/plain": [
       "<AxesSubplot:>"
      ]
     },
     "execution_count": 14,
     "metadata": {},
     "output_type": "execute_result"
    },
    {
     "data": {
      "image/png": "[encoded data removed]",
      "text/plain": [
       "<Figure size 2160x1440 with 2 Axes>"
      ]
     },
     "metadata": {
      "needs_background": "light"
     },
     "output_type": "display_data"
    }
   ],
   "source": [
    "datacorr=data.corr()                                ##corr For correlation\n",
    "\n",
    "plt.figure(figsize=(30,20))\n",
    "sns.heatmap(datacorr.iloc[:10,:10],annot=True,cmap='Reds')       #annot provide value of correlation"
   ]
  },
  {
   "cell_type": "markdown",
   "id": "b5969356",
   "metadata": {},
   "source": [
    "  ## Analysis For **Number Of Attacks Each Year** "
   ]
  },
  {
   "cell_type": "code",
   "execution_count": 17,
   "id": "8283782a",
   "metadata": {},
   "outputs": [
    {
     "data": {
      "text/plain": [
       "1970      651\n",
       "1971      471\n",
       "1972      568\n",
       "1973      473\n",
       "1974      581\n",
       "1975      740\n",
       "1976      923\n",
       "1977     1319\n",
       "1978     1526\n",
       "1979     2662\n",
       "1980     2662\n",
       "1981     2586\n",
       "1982     2544\n",
       "1983     2870\n",
       "1984     3495\n",
       "1985     2915\n",
       "1986     2860\n",
       "1987     3183\n",
       "1988     3721\n",
       "1989     4324\n",
       "1990     3887\n",
       "1991     4683\n",
       "1992     5071\n",
       "1994     3456\n",
       "1995     3081\n",
       "1996     3058\n",
       "1997     3197\n",
       "1998      934\n",
       "1999     1395\n",
       "2000     1814\n",
       "2001     1906\n",
       "2002     1333\n",
       "2003     1278\n",
       "2004     1166\n",
       "2005     2017\n",
       "2006     2758\n",
       "2007     3242\n",
       "2008     4805\n",
       "2009     4721\n",
       "2010     4826\n",
       "2011     5076\n",
       "2012     8522\n",
       "2013    12036\n",
       "2014    16903\n",
       "2015    14965\n",
       "2016    13587\n",
       "2017    10900\n",
       "Name: iyear, dtype: int64"
      ]
     },
     "execution_count": 17,
     "metadata": {},
     "output_type": "execute_result"
    }
   ],
   "source": [
    "Year=data['iyear'].unique()                                                 ##all unique values in data\n",
    "Year\n",
    "Year_count=data['iyear'].value_counts(dropna=False).sort_index()           ##valuecounts gives count of occurence in unique data\n",
    "Year_count\n"
   ]
  },
  {
   "cell_type": "code",
   "execution_count": 18,
   "id": "3d9ce997",
   "metadata": {},
   "outputs": [
    {
     "data": {
      "text/plain": [
       "Text(0.5, 1.0, 'Terrorist Attack from 1917 to 2017')"
      ]
     },
     "execution_count": 18,
     "metadata": {},
     "output_type": "execute_result"
    },
    {
     "data": {
      "image/png": "[encoded data removed]",
      "text/plain": [
       "<Figure size 720x720 with 1 Axes>"
      ]
     },
     "metadata": {
      "needs_background": "light"
     },
     "output_type": "display_data"
    }
   ],
   "source": [
    "\n",
    "plt.figure(figsize=(10,10))\n",
    "sns.barplot(x=Year,y=Year_count,palette='muted')\n",
    "plt.xticks(rotation=90)\n",
    "plt.xlabel('Year Of Attack',fontsize=10)\n",
    "plt.ylabel('Number Of Attack',fontsize=10)\n",
    "plt.title('Terrorist Attack from 1917 to 2017',fontsize=14)"
   ]
  },
  {
   "cell_type": "markdown",
   "id": "d099e571",
   "metadata": {},
   "source": [
    "- insight-we can observe from above graph that most of the attacks were happened in the year 2014 followed by 2015 and 2016."
   ]
  },
  {
   "cell_type": "code",
   "execution_count": 24,
   "id": "0b7ce46e",
   "metadata": {},
   "outputs": [
    {
     "name": "stdout",
     "output_type": "stream",
     "text": [
      "Total Number Of Deaths: 411868.0\n"
     ]
    }
   ],
   "source": [
    "##Total number of deaths\n",
    "KillData=data.loc[:,'nkill']\n",
    "print(\"Total Number Of Deaths:\",float(sum(KillData.dropna())))"
   ]
  },
  {
   "cell_type": "markdown",
   "id": "c6408b75",
   "metadata": {},
   "source": [
    "## Analysis For- Terrorist Activities By Region Each Year"
   ]
  },
  {
   "cell_type": "code",
   "execution_count": 26,
   "id": "485e4f0e",
   "metadata": {
    "scrolled": true
   },
   "outputs": [
    {
     "data": {
      "text/plain": [
       "Text(0, 0.5, 'Terrorist Activities')"
      ]
     },
     "execution_count": 26,
     "metadata": {},
     "output_type": "execute_result"
    },
    {
     "data": {
      "image/png": "[encoded data removed]",
      "text/plain": [
       "<Figure size 720x720 with 1 Axes>"
      ]
     },
     "metadata": {
      "needs_background": "light"
     },
     "output_type": "display_data"
    }
   ],
   "source": [
    "pd.crosstab(data.iyear,data.region).plot(kind='area',stacked=False,figsize=(10,10))\n",
    "plt.title(\"Terrorist Activities By Region Each Year\")\n",
    "plt.xlabel(\"Year\")\n",
    "plt.ylabel(\"Terrorist Activities\")"
   ]
  },
  {
   "cell_type": "code",
   "execution_count": 27,
   "id": "05851181",
   "metadata": {},
   "outputs": [],
   "source": [
    "## Top 5 Countries With Max Terrorist Attacks"
   ]
  },
  {
   "cell_type": "code",
   "execution_count": 29,
   "id": "ccc2e7ba",
   "metadata": {},
   "outputs": [
    {
     "data": {
      "text/plain": [
       "95     24636\n",
       "153    14368\n",
       "4      12731\n",
       "92     11960\n",
       "45      8306\n",
       "Name: country, dtype: int64"
      ]
     },
     "execution_count": 29,
     "metadata": {},
     "output_type": "execute_result"
    }
   ],
   "source": [
    "## attacks in a country\n",
    "attack=data.country.value_counts()[:5]\n",
    "attack"
   ]
  },
  {
   "cell_type": "code",
   "execution_count": 31,
   "id": "4b859405",
   "metadata": {},
   "outputs": [
    {
     "name": "stderr",
     "output_type": "stream",
     "text": [
      "C:\\ProgramData\\Anaconda3\\lib\\site-packages\\seaborn\\_decorators.py:36: FutureWarning: Pass the following variables as keyword args: x, y. From version 0.12, the only valid positional argument will be `data`, and passing other arguments without an explicit keyword will result in an error or misinterpretation.\n",
      "  warnings.warn(\n"
     ]
    },
    {
     "data": {
      "text/plain": [
       "Text(0, 0.5, 'No. Of Attacks')"
      ]
     },
     "execution_count": 31,
     "metadata": {},
     "output_type": "execute_result"
    },
    {
     "data": {
      "image/png": "[encoded data removed]",
      "text/plain": [
       "<Figure size 360x360 with 1 Axes>"
      ]
     },
     "metadata": {
      "needs_background": "light"
     },
     "output_type": "display_data"
    }
   ],
   "source": [
    "plt.subplots(figsize=(5,5))\n",
    "sns.barplot(data.country.value_counts()[:15].index,data.country.value_counts()[:15].values , palette='dark')\n",
    "plt.xticks(rotation=50)\n",
    "plt.title(\"Top Countries By Attacks\",fontsize=20)\n",
    "plt.xlabel(\"Countries Name\",fontsize=10)\n",
    "plt.ylabel(\"No. Of Attacks\",fontsize=10)"
   ]
  },
  {
   "cell_type": "markdown",
   "id": "39d23545",
   "metadata": {},
   "source": [
    " **insight:**\n",
    "- The top two regions with most of the terrorist attacks are Middle East and South Asia.\n",
    "- The country with maximum attacks are Iraq and pakistan."
   ]
  },
  {
   "cell_type": "markdown",
   "id": "a66b5bc6",
   "metadata": {},
   "source": [
    "## Terrorist Attacks By Groups"
   ]
  },
  {
   "cell_type": "code",
   "execution_count": 32,
   "id": "2374b421",
   "metadata": {},
   "outputs": [
    {
     "data": {
      "text/plain": [
       "Unknown                                             82782\n",
       "Taliban                                              7478\n",
       "Islamic State of Iraq and the Levant (ISIL)          5613\n",
       "Shining Path (SL)                                    4555\n",
       "Farabundo Marti National Liberation Front (FMLN)     3351\n",
       "Al-Shabaab                                           3288\n",
       "New People's Army (NPA)                              2772\n",
       "Irish Republican Army (IRA)                          2671\n",
       "Revolutionary Armed Forces of Colombia (FARC)        2487\n",
       "Boko Haram                                           2418\n",
       "Name: gname, dtype: int64"
      ]
     },
     "execution_count": 32,
     "metadata": {},
     "output_type": "execute_result"
    }
   ],
   "source": [
    "data.gname.value_counts()[:10]"
   ]
  },
  {
   "cell_type": "code",
   "execution_count": 34,
   "id": "83f97000",
   "metadata": {},
   "outputs": [
    {
     "data": {
      "image/png": "[encoded data removed]",
      "text/plain": [
       "<Figure size 360x360 with 1 Axes>"
      ]
     },
     "metadata": {
      "needs_background": "light"
     },
     "output_type": "display_data"
    }
   ],
   "source": [
    "plt.subplots(figsize=(5,5))\n",
    "sns.barplot(y=data['gname'].value_counts()[1:10].index,x=data['gname'].value_counts()[1:10].values,palette='copper')\n",
    "plt.title(\"MOST ACTIVE GROUPS\", fontsize=15)\n",
    "plt.xlabel(\"Attacks Done By Groups\",fontsize=10)\n",
    "plt.ylabel(\"Group's Name\",fontsize=10)\n",
    "plt.grid()"
   ]
  },
  {
   "cell_type": "markdown",
   "id": "3c4de0fc",
   "metadata": {},
   "source": [
    "**INSIGHT** -Group with the most number of attacks is Taliban."
   ]
  },
  {
   "cell_type": "markdown",
   "id": "8e94e565",
   "metadata": {},
   "source": [
    "## Deaths Caused By Attack "
   ]
  },
  {
   "cell_type": "code",
   "execution_count": 35,
   "id": "607f84f7",
   "metadata": {},
   "outputs": [
    {
     "data": {
      "text/plain": [
       "Text(0, 0.5, 'Count For Kills')"
      ]
     },
     "execution_count": 35,
     "metadata": {},
     "output_type": "execute_result"
    },
    {
     "data": {
      "image/png": "[encoded data removed]",
      "text/plain": [
       "<Figure size 720x720 with 1 Axes>"
      ]
     },
     "metadata": {
      "needs_background": "light"
     },
     "output_type": "display_data"
    }
   ],
   "source": [
    "df=data[['iyear','nkill']].groupby(['iyear']).sum()                   ##group columns into categories\n",
    "#df\n",
    "\n",
    "#graph\n",
    "df.plot(kind='bar',color='darkred',figsize=(10,10))\n",
    "plt.xticks(rotation=90)\n",
    "plt.title(\"Deaths Caused By Attacks\",fontsize=15)\n",
    "plt.xlabel(\"Year\",fontsize=12)\n",
    "plt.ylabel(\"Count For Kills\",fontsize=12)"
   ]
  },
  {
   "cell_type": "markdown",
   "id": "75567300",
   "metadata": {},
   "source": [
    "****INSIGHTS****\n",
    "-Most number of deaths are happened in 2014."
   ]
  },
  {
   "cell_type": "markdown",
   "id": "11260fc1",
   "metadata": {},
   "source": [
    "## Major Weapons Used By Terrorists"
   ]
  },
  {
   "cell_type": "code",
   "execution_count": 37,
   "id": "42f0b670",
   "metadata": {
    "scrolled": true
   },
   "outputs": [
    {
     "name": "stderr",
     "output_type": "stream",
     "text": [
      "C:\\ProgramData\\Anaconda3\\lib\\site-packages\\seaborn\\_decorators.py:36: FutureWarning: Pass the following variable as a keyword arg: x. From version 0.12, the only valid positional argument will be `data`, and passing other arguments without an explicit keyword will result in an error or misinterpretation.\n",
      "  warnings.warn(\n"
     ]
    },
    {
     "data": {
      "text/plain": [
       "Text(0.5, 1.0, 'Death By Weapons')"
      ]
     },
     "execution_count": 37,
     "metadata": {},
     "output_type": "execute_result"
    },
    {
     "data": {
      "image/png": "[encoded data removed]",
      "text/plain": [
       "<Figure size 720x360 with 1 Axes>"
      ]
     },
     "metadata": {
      "needs_background": "light"
     },
     "output_type": "display_data"
    }
   ],
   "source": [
    "plt.subplots(figsize=(10,5))\n",
    "sns.countplot('weaptype1',data=data,palette='colorblind',order=data['weaptype1'].value_counts().index)\n",
    "plt.xticks(rotation=80)\n",
    "plt.xlabel(\"Type Of Weapon\",fontsize=10)\n",
    "plt.ylabel(\"Count Of Deaths\",fontsize=10)\n",
    "plt.title(\"Death By Weapons\",fontsize=15)"
   ]
  },
  {
   "cell_type": "markdown",
   "id": "e0ddb078",
   "metadata": {},
   "source": [
    "**INSIGHTS**\n",
    "-Explosives are majorly used by Terrorists."
   ]
  },
  {
   "cell_type": "markdown",
   "id": "02e12d3a",
   "metadata": {},
   "source": []
  },
  {
   "cell_type": "code",
   "execution_count": null,
   "id": "4ca9e3b4",
   "metadata": {},
   "outputs": [],
   "source": []
  }
 ],
 "metadata": {
  "kernelspec": {
   "display_name": "Python 3 (ipykernel)",
   "language": "python",
   "name": "python3"
  },
  "language_info": {
   "codemirror_mode": {
    "name": "ipython",
    "version": 3
   },
   "file_extension": ".py",
   "mimetype": "text/x-python",
   "name": "python",
   "nbconvert_exporter": "python",
   "pygments_lexer": "ipython3",
   "version": "3.9.7"
  }
 },
 "nbformat": 4,
 "nbformat_minor": 5
}
